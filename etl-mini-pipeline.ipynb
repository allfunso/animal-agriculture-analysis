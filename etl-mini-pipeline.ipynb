{
 "cells": [
  {
   "cell_type": "markdown",
   "id": "0061ea04-d687-4e5b-93b7-65fd52915adb",
   "metadata": {},
   "source": [
    "# Animal Agriculture Analysis: ETL Pipeline"
   ]
  },
  {
   "cell_type": "markdown",
   "id": "1273d445-3f34-4ae9-88a6-e983d3589a74",
   "metadata": {},
   "source": [
    "## Data extraction"
   ]
  },
  {
   "cell_type": "code",
   "execution_count": 1,
   "id": "ebb39b76-6cdf-46fa-a05f-267617c39d88",
   "metadata": {},
   "outputs": [],
   "source": [
    "from owid.catalog import charts\n",
    "import pandas as pd\n",
    "import numpy as np\n",
    "import pandas as pd\n",
    "import requests\n",
    "import matplotlib\n",
    "from sqlalchemy import create_engine\n"
   ]
  },
  {
   "cell_type": "code",
   "execution_count": 2,
   "id": "0edd4829-11d7-4ffd-84ee-0d216a8eb2c8",
   "metadata": {},
   "outputs": [],
   "source": [
    "# URL paths to relevant charts\n",
    "milks_path = 'https://ourworldindata.org/grapher/environmental-footprint-milks'\n",
    "feed_per_kg_path = 'https://ourworldindata.org/grapher/feed-required-to-produce-one-kilogram-of-meat-or-dairy-product'\n",
    "total_slaughter_path = 'https://ourworldindata.org/grapher/animals-slaughtered-for-meat'\n",
    "protein_efficiency_path = 'https://ourworldindata.org/grapher/protein-efficiency-of-meat-and-dairy-production'\n",
    "meat_production_path = 'https://ourworldindata.org/grapher/global-meat-production-by-livestock-type'\n"
   ]
  },
  {
   "cell_type": "code",
   "execution_count": 3,
   "id": "362cf8ba-07fe-48c7-a58c-ea2ef4d3d36d",
   "metadata": {},
   "outputs": [],
   "source": [
    "# get the data for each chart by URL\n",
    "milks_df = charts.get_data(milks_path)\n",
    "feed_per_kg_df = charts.get_data(feed_per_kg_path)\n",
    "total_slaughter_df = charts.get_data(total_slaughter_path)\n",
    "protein_efficiency_df = charts.get_data(protein_efficiency_path)\n",
    "meat_production_df = charts.get_data(meat_production_path)\n"
   ]
  },
  {
   "cell_type": "markdown",
   "id": "679921d7-939f-476b-acb9-74b7a0c773ec",
   "metadata": {},
   "source": [
    "## Data transformation"
   ]
  },
  {
   "cell_type": "code",
   "execution_count": 4,
   "id": "25fbd14e-fcb5-4a99-ad5e-cf17dc675920",
   "metadata": {},
   "outputs": [],
   "source": [
    "# Standardize column names\n",
    "\n",
    "# Standardize milks columns\n",
    "milks_renaming = {\n",
    "    '_242004': 'land_use_m2',\n",
    "    '_242005': 'ghg_co2eq_kg',\n",
    "    '_242006': 'water_use_L',\n",
    "    '_242007': 'eutrophication_PO4eq_g'\n",
    "    }\n",
    "\n",
    "# Standardize total slaughter columns\n",
    "total_slaughter_renaming = {\n",
    "    'meat_of_cattle_with_the_bone__fresh_or_chilled__00000867__producing_or_slaughtered_animals__005320__animals': 'cattle',\n",
    "    'meat__goat__00001017__producing_or_slaughtered_animals__005320__animals': 'goat',\n",
    "    'meat__chicken__00001058__producing_or_slaughtered_animals__005321__animals': 'chicken',\n",
    "    'meat__turkey__00001080__producing_or_slaughtered_animals__005321__animals': 'turkey',\n",
    "    'meat__pig__00001035__producing_or_slaughtered_animals__005320__animals': 'pig',\n",
    "    'meat__lamb_and_mutton__00000977__producing_or_slaughtered_animals__005320__animals': 'sheep',\n",
    "    'meat__duck__00001069__producing_or_slaughtered_animals__005321__animals': 'duck'\n",
    "    }\n",
    "\n",
    "# Standardize meat production columns\n",
    "meat_production_renaming = {\n",
    "    'meat__game__00001163__production__005510__tonnes': 'wild_hunt_tonnes',\n",
    "    'meat__horse__00001097__production__005510__tonnes': 'horse_tonnes',\n",
    "    'meat__camel__00001127__production__005510__tonnes': 'camel_tonnes',\n",
    "    'meat__sheep_and_goat__00001807__production__005510__tonnes': 'sheep_and_goat_tonnes',\n",
    "    'meat__beef_and_buffalo__00001806__production__005510__tonnes': 'beef_and_buffalo_tonnes',\n",
    "    'meat__pig__00001035__production__005510__tonnes': 'pig_tonnes',\n",
    "    'meat__poultry__00001808__production__005510__tonnes': 'poultry_tonnes'\n",
    "    }\n"
   ]
  },
  {
   "cell_type": "code",
   "execution_count": 5,
   "id": "18d0be35-4e63-47b5-ba83-96075574bef6",
   "metadata": {},
   "outputs": [],
   "source": [
    "milks_df = milks_df.rename(columns=milks_renaming)\n",
    "total_slaughter_df = total_slaughter_df.rename(columns=total_slaughter_renaming)\n",
    "meat_production_df = meat_production_df.rename(columns=meat_production_renaming)\n"
   ]
  },
  {
   "cell_type": "code",
   "execution_count": 6,
   "id": "55f58085-ebd7-4e5c-aee2-00283625ae4f",
   "metadata": {},
   "outputs": [],
   "source": [
    "world_total_slaughter_df = total_slaughter_df.loc[total_slaughter_df['entities'] == 'World'].copy()\n",
    "mexico_total_slaughter_df = total_slaughter_df.loc[total_slaughter_df['entities'] == 'Mexico'].copy()\n",
    "\n",
    "# Drop redundant columns\n",
    "world_total_slaughter_df = world_total_slaughter_df.drop(columns=['entities'])\n",
    "mexico_total_slaughter_df = mexico_total_slaughter_df.drop(columns=['entities'])\n"
   ]
  },
  {
   "cell_type": "code",
   "execution_count": 7,
   "id": "96326308-6212-4738-8c5d-e370a9bd1fc4",
   "metadata": {},
   "outputs": [],
   "source": [
    "world_meat_production_df = meat_production_df.loc[meat_production_df['entities'] == 'World'].copy()\n",
    "mexico_meat_production_df = meat_production_df.loc[meat_production_df['entities'] == 'Mexico'].copy()\n",
    "\n",
    "# Drop redundant columns\n",
    "world_meat_production_df = world_meat_production_df.drop(columns=['entities'])\n",
    "mexico_meat_production_df = mexico_meat_production_df.drop(columns=['entities'])\n"
   ]
  },
  {
   "cell_type": "markdown",
   "id": "0becd766-d9a0-42c0-b2a5-e3452b5be0d1",
   "metadata": {},
   "source": [
    "## Load"
   ]
  },
  {
   "cell_type": "code",
   "execution_count": 8,
   "id": "984b16c7-9cd1-4020-b23d-48cd0032df47",
   "metadata": {},
   "outputs": [],
   "source": [
    "# Create the SQLite engine\n",
    "engine = create_engine('sqlite:///animal_agriculture.db')\n"
   ]
  },
  {
   "cell_type": "code",
   "execution_count": 9,
   "id": "0cf4b144-3dd6-4e73-a260-58ed6d5cf19c",
   "metadata": {},
   "outputs": [
    {
     "data": {
      "text/plain": [
       "5"
      ]
     },
     "execution_count": 9,
     "metadata": {},
     "output_type": "execute_result"
    }
   ],
   "source": [
    "# Write each DataFrame to the database\n",
    "world_total_slaughter_df.to_sql('world_total_slaughter', con=engine, if_exists='replace', index=False)\n",
    "mexico_total_slaughter_df.to_sql('mexico_total_slaughter', con=engine, if_exists='replace', index=False)\n",
    "world_meat_production_df.to_sql('world_meat_production', con=engine, if_exists='replace', index=False)\n",
    "mexico_meat_production_df.to_sql('mexico_meat_production', con=engine, if_exists='replace', index=False)\n",
    "milks_df.to_sql('milks_comparison', con=engine, if_exists='replace', index=False)\n"
   ]
  },
  {
   "cell_type": "markdown",
   "id": "b53abc10-c30c-4d35-8e53-c32637a48ed1",
   "metadata": {},
   "source": [
    "# Example Queries"
   ]
  },
  {
   "cell_type": "code",
   "execution_count": 10,
   "id": "2a476bff-e75d-4456-b566-e692865d3007",
   "metadata": {},
   "outputs": [
    {
     "name": "stdout",
     "output_type": "stream",
     "text": [
      "   years  beef_and_buffalo_tonnes\n",
      "0   2023               76560810.0\n",
      "1   2022               75423450.0\n",
      "2   2021               74071690.0\n",
      "3   2019               73993960.0\n",
      "4   2020               73003380.0\n",
      "5   2018               72966970.0\n",
      "6   2017               71118024.0\n",
      "7   2016               69892300.0\n",
      "8   2014               69797700.0\n",
      "9   2015               69547440.0\n"
     ]
    }
   ],
   "source": [
    "# Example query: top years of beef production\n",
    "query = \"\"\"\n",
    "SELECT years, beef_and_buffalo_tonnes\n",
    "FROM world_meat_production\n",
    "ORDER BY beef_and_buffalo_tonnes DESC\n",
    "LIMIT 10\n",
    "\"\"\"\n",
    "\n",
    "df_top_beef = pd.read_sql(query, con=engine)\n",
    "print(df_top_beef)"
   ]
  },
  {
   "cell_type": "markdown",
   "id": "a1e1a6bc-d5bf-4c07-8114-83d402dc86ba",
   "metadata": {},
   "source": [
    "# Create CSV files for Power BI"
   ]
  },
  {
   "cell_type": "code",
   "execution_count": 15,
   "id": "5df36643-b0d1-4850-92f1-ee4af491fcbc",
   "metadata": {},
   "outputs": [],
   "source": [
    "name = \"milks_comparison\"\n",
    "\n",
    "query = f\"\"\"\n",
    "SELECT *\n",
    "FROM {name}\n",
    "\"\"\"\n",
    "\n",
    "df = pd.read_sql(query, con=engine)\n",
    "df.to_csv(f\"{name}.csv\", index=False)"
   ]
  }
 ],
 "metadata": {
  "kernelspec": {
   "display_name": "Python 3 (ipykernel)",
   "language": "python",
   "name": "python3"
  },
  "language_info": {
   "codemirror_mode": {
    "name": "ipython",
    "version": 3
   },
   "file_extension": ".py",
   "mimetype": "text/x-python",
   "name": "python",
   "nbconvert_exporter": "python",
   "pygments_lexer": "ipython3",
   "version": "3.12.3"
  }
 },
 "nbformat": 4,
 "nbformat_minor": 5
}
